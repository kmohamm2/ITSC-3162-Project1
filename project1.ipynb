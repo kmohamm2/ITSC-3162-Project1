{
 "cells": [
  {
   "cell_type": "markdown",
   "metadata": {
    "id": "R3egdYhiYXkP"
   },
   "source": [
    "**Project 1**\n",
    "\n",
    "Addressing Student Mental Health and Well-being"
   ]
  },
  {
   "cell_type": "markdown",
   "metadata": {
    "id": "GYG3Ko0GY-tX"
   },
   "source": [
    "**Loading Dataset**"
   ]
  },
  {
   "cell_type": "code",
   "execution_count": 1,
   "metadata": {
    "colab": {
     "base_uri": "https://localhost:8080/"
    },
    "id": "kR8VGNqTexxL",
    "outputId": "ad9f256e-b744-46dd-e6de-677873014e54"
   },
   "outputs": [
    {
     "name": "stdout",
     "output_type": "stream",
     "text": [
      "<class 'pandas.core.frame.DataFrame'>\n",
      "RangeIndex: 101 entries, 0 to 100\n",
      "Data columns (total 10 columns):\n",
      " #   Column             Non-Null Count  Dtype  \n",
      "---  ------             --------------  -----  \n",
      " 0   Gender             101 non-null    object \n",
      " 1   Age                100 non-null    float64\n",
      " 2   Course             101 non-null    object \n",
      " 3   Year               101 non-null    object \n",
      " 4   CGPA               101 non-null    object \n",
      " 5   Married            101 non-null    object \n",
      " 6   Depression         101 non-null    object \n",
      " 7   Anxiety            101 non-null    object \n",
      " 8   Panic Attack       101 non-null    object \n",
      " 9   Seeking Treatment  101 non-null    object \n",
      "dtypes: float64(1), object(9)\n",
      "memory usage: 8.0+ KB\n"
     ]
    }
   ],
   "source": [
    "import numpy as np # linear algebra\n",
    "import pandas as pd # data processing, CSV file I/O (e.g. pd.read_csv)\n",
    "import matplotlib.pyplot as plt\n",
    "import seaborn as sns\n",
    "\n",
    "df = df = pd.read_csv('Student Mental health.csv')\n",
    "\n",
    "df\n",
    "# One of the feedback I got was to name the initial dataframe as \"df\" as that was what is commonly used.\n",
    "# Renaming columns so it's easier to call them later on when coding.\n",
    "df.rename(columns = {'Choose your gender':'Gender',\n",
    "                     'What is your course?':'Course',\n",
    "                     'Your current year of Study': 'Year',\n",
    "                     'What is your CGPA?': 'CGPA',\n",
    "                     'Marital status': 'Married',\n",
    "                     'Do you have Depression?': 'Depression',\n",
    "                     'Do you have Anxiety?': 'Anxiety',\n",
    "                     'Do you have Panic attack?': 'Panic Attack',\n",
    "                     'Did you seek any specialist for a treatment?': 'Seeking Treatment'},inplace = True)\n",
    "\n",
    "# Dropping the timestamp table as I don't see it as important\n",
    "df = df.drop(columns = \"Timestamp\")\n",
    "df.info()"
   ]
  },
  {
   "cell_type": "markdown",
   "metadata": {
    "id": "I-4U77-aZGfK"
   },
   "source": [
    "**Data Preprocessing**"
   ]
  },
  {
   "cell_type": "markdown",
   "metadata": {
    "id": "8Qm32biLYIni"
   },
   "source": [
    "Cleaning up the null values\n",
    "\n",
    "Since there was 1 entry that had a null vallue, I proceeded to check on that specific row. This one had their age missing. Since I had no way to validate what was the age of this student, I could either delete this data or keep it."
   ]
  },
  {
   "cell_type": "code",
   "execution_count": 3,
   "metadata": {
    "colab": {
     "base_uri": "https://localhost:8080/",
     "height": 81
    },
    "id": "7LhS3aBjjXnO",
    "outputId": "ce52b5a5-feda-499e-c446-6642ce99a77c"
   },
   "outputs": [
    {
     "data": {
      "text/html": [
       "<div>\n",
       "<style scoped>\n",
       "    .dataframe tbody tr th:only-of-type {\n",
       "        vertical-align: middle;\n",
       "    }\n",
       "\n",
       "    .dataframe tbody tr th {\n",
       "        vertical-align: top;\n",
       "    }\n",
       "\n",
       "    .dataframe thead th {\n",
       "        text-align: right;\n",
       "    }\n",
       "</style>\n",
       "<table border=\"1\" class=\"dataframe\">\n",
       "  <thead>\n",
       "    <tr style=\"text-align: right;\">\n",
       "      <th></th>\n",
       "      <th>Gender</th>\n",
       "      <th>Age</th>\n",
       "      <th>Course</th>\n",
       "      <th>Year</th>\n",
       "      <th>CGPA</th>\n",
       "      <th>Married</th>\n",
       "      <th>Depression</th>\n",
       "      <th>Anxiety</th>\n",
       "      <th>Panic Attack</th>\n",
       "      <th>Seeking Treatment</th>\n",
       "    </tr>\n",
       "  </thead>\n",
       "  <tbody>\n",
       "    <tr>\n",
       "      <th>43</th>\n",
       "      <td>Male</td>\n",
       "      <td>NaN</td>\n",
       "      <td>BIT</td>\n",
       "      <td>year 1</td>\n",
       "      <td>0 - 1.99</td>\n",
       "      <td>No</td>\n",
       "      <td>No</td>\n",
       "      <td>No</td>\n",
       "      <td>No</td>\n",
       "      <td>No</td>\n",
       "    </tr>\n",
       "  </tbody>\n",
       "</table>\n",
       "</div>"
      ],
      "text/plain": [
       "   Gender  Age Course    Year      CGPA Married Depression Anxiety  \\\n",
       "43   Male  NaN    BIT  year 1  0 - 1.99      No         No      No   \n",
       "\n",
       "   Panic Attack Seeking Treatment  \n",
       "43           No                No  "
      ]
     },
     "execution_count": 3,
     "metadata": {},
     "output_type": "execute_result"
    }
   ],
   "source": [
    "df[df.isnull().any(axis=1)]"
   ]
  },
  {
   "cell_type": "code",
   "execution_count": 5,
   "metadata": {
    "colab": {
     "base_uri": "https://localhost:8080/",
     "height": 398
    },
    "id": "d7Eoey6tjyQK",
    "outputId": "dffd249c-c5a1-40b8-cf39-73776ec69598"
   },
   "outputs": [
    {
     "data": {
      "text/plain": [
       "Gender               0\n",
       "Age                  0\n",
       "Course               0\n",
       "Year                 0\n",
       "CGPA                 0\n",
       "Married              0\n",
       "Depression           0\n",
       "Anxiety              0\n",
       "Panic Attack         0\n",
       "Seeking Treatment    0\n",
       "dtype: int64"
      ]
     },
     "execution_count": 5,
     "metadata": {},
     "output_type": "execute_result"
    }
   ],
   "source": [
    "# Dropping the null values and double checking if there were still any null values\n",
    "df = df.dropna()\n",
    "df.isnull().sum()"
   ]
  },
  {
   "cell_type": "code",
   "execution_count": 7,
   "metadata": {
    "colab": {
     "base_uri": "https://localhost:8080/"
    },
    "id": "fnPp5GkWj6jc",
    "outputId": "51473b23-1bd4-4c33-b7ca-2a2cbe78c38f"
   },
   "outputs": [
    {
     "data": {
      "text/plain": [
       "array(['Engineering', 'Islamic education', 'BIT', 'Laws', 'Mathemathics',\n",
       "       'Pendidikan islam', 'BCS', 'Human Resources', 'Irkhs',\n",
       "       'Psychology', 'KENMS', 'Accounting ', 'ENM', 'Marine science',\n",
       "       'KOE', 'Banking Studies', 'Business Administration', 'Law',\n",
       "       'KIRKHS', 'Usuluddin ', 'TAASL', 'Engine', 'ALA',\n",
       "       'Biomedical science', 'koe', 'Kirkhs', 'BENL', 'Benl', 'IT', 'CTS',\n",
       "       'engin', 'Econs', 'MHSC', 'Malcom', 'Kop', 'Human Sciences ',\n",
       "       'Biotechnology', 'Communication ', 'Diploma Nursing',\n",
       "       'Pendidikan Islam ', 'Radiography', 'psychology', 'Fiqh fatwa ',\n",
       "       'DIPLOMA TESL', 'Koe', 'Fiqh', 'Islamic Education', 'Nursing ',\n",
       "       'Pendidikan Islam'], dtype=object)"
      ]
     },
     "execution_count": 7,
     "metadata": {},
     "output_type": "execute_result"
    }
   ],
   "source": [
    "# Checking all courses that were submitted\n",
    "df['Course'].unique()"
   ]
  },
  {
   "cell_type": "code",
   "execution_count": 9,
   "metadata": {
    "colab": {
     "base_uri": "https://localhost:8080/"
    },
    "id": "YOBnUxgsj_ad",
    "outputId": "a65a5f7c-13c4-4d14-838b-85c91fe0121c"
   },
   "outputs": [
    {
     "data": {
      "text/plain": [
       "array(['engineering', 'islamic education', 'bit', 'laws', 'mathemathics',\n",
       "       'pendidikan islam', 'bcs', 'human resources', 'irkhs',\n",
       "       'psychology', 'kenms', 'accounting', 'enm', 'marine science',\n",
       "       'koe', 'banking studies', 'business administration', 'law',\n",
       "       'kirkhs', 'usuluddin', 'taasl', 'engine', 'ala',\n",
       "       'biomedical science', 'benl', 'it', 'cts', 'engin', 'econs',\n",
       "       'mhsc', 'malcom', 'kop', 'human sciences', 'biotechnology',\n",
       "       'communication', 'diploma nursing', 'radiography', 'fiqh fatwa',\n",
       "       'diploma tesl', 'fiqh', 'nursing'], dtype=object)"
      ]
     },
     "execution_count": 9,
     "metadata": {},
     "output_type": "execute_result"
    }
   ],
   "source": [
    "# Changing all entries into a lower string\n",
    "df['Course'] = df['Course'].str.lower()\n",
    "\n",
    "# Removing unnecessary spaces from the Course and CGPA column\n",
    "df['Course'] = df['Course'].str.strip()\n",
    "df['CGPA'] = df['CGPA'].str.strip()\n",
    "\n",
    "df['Course'].unique()"
   ]
  },
  {
   "cell_type": "code",
   "execution_count": 13,
   "metadata": {
    "colab": {
     "base_uri": "https://localhost:8080/"
    },
    "id": "ACgMXQP3kHY2",
    "outputId": "c01b10b9-bbd6-4c91-d751-2725f2d24e15"
   },
   "outputs": [
    {
     "data": {
      "text/plain": [
       "array(['engineering', 'education', 'it', 'law', 'mathematics',\n",
       "       'computer science', 'human sciences', 'irkhs', 'psychology',\n",
       "       'economics', 'accounting', 'marine science', 'banking studies',\n",
       "       'business administration', 'biomedical science', 'cts',\n",
       "       'communication', 'pharmacy', 'biotechnology', 'nursing',\n",
       "       'radiography'], dtype=object)"
      ]
     },
     "execution_count": 13,
     "metadata": {},
     "output_type": "execute_result"
    }
   ],
   "source": [
    "# I replaced each of the courses into similar courses/categories as well as cleaning up some of the spelling\n",
    "# Replacing each course with similar courses/categories and cleaning up spelling\n",
    "df['Course'] = df['Course'].replace({\n",
    "    'pendidikan islam': 'education',\n",
    "    'laws': 'law',\n",
    "    'engine': 'engineering',\n",
    "    'engin': 'engineering',\n",
    "    'diploma nursing': 'nursing',\n",
    "    'bit': 'it',\n",
    "    'kirkhs': 'irkhs',\n",
    "    'usuluddin': 'irkhs',\n",
    "    'fiqh fatwa': 'irkhs',\n",
    "    'fiqh': 'irkhs',\n",
    "    'human resources': 'human sciences',\n",
    "    'econs': 'economics',\n",
    "    'kenms': 'economics',\n",
    "    'enm': 'economics',\n",
    "    'kop': 'pharmacy',\n",
    "    'koe': 'education',\n",
    "    'benl': 'education',\n",
    "    'islamic education': 'education',\n",
    "    'mathemathics': 'mathematics',\n",
    "    'diploma tesl': 'education',\n",
    "    'mhsc': 'human sciences',\n",
    "    'taasl': 'education',\n",
    "    'ala': 'human sciences',\n",
    "    'bcs': 'computer science',\n",
    "    'malcom': 'communication'\n",
    "})\n",
    "\n",
    "# To view the unique values in the 'Course' column\n",
    "df['Course'].unique()\n"
   ]
  },
  {
   "cell_type": "code",
   "execution_count": 15,
   "metadata": {
    "colab": {
     "base_uri": "https://localhost:8080/"
    },
    "id": "rPKt33gjkViD",
    "outputId": "da2df4ff-ce5c-4df0-bc19-faa1fc2fb17e"
   },
   "outputs": [
    {
     "data": {
      "text/plain": [
       "array(['Engineering', 'Education', 'IT', 'Law', 'Mathematics',\n",
       "       'Computer Science', 'Human Sciences', 'IRKHS', 'Psychology',\n",
       "       'Economics', 'Accounting', 'Marine Science', 'Banking Studies',\n",
       "       'Business Administration', 'Biomedical Science', 'CTS',\n",
       "       'Communication', 'Pharmacy', 'Biotechnology', 'Nursing',\n",
       "       'Radiography'], dtype=object)"
      ]
     },
     "execution_count": 15,
     "metadata": {},
     "output_type": "execute_result"
    }
   ],
   "source": [
    "# Capitalizing each word in their courses as well as replacing the courses with all uppercase.\n",
    "# Most likely there is also a method to change the 3 specific courses into uppercase.\n",
    "# Since there were a few, I decided to just replace them.\n",
    "\n",
    "# Capitalizing each word in the 'Course' column and replacing specific courses with uppercase\n",
    "df['Course'] = df['Course'].str.title().replace({\n",
    "    'It': 'IT',\n",
    "    'Irkhs': 'IRKHS',\n",
    "    'Cts': 'CTS'\n",
    "})\n",
    "\n",
    "# To view the unique values in the 'Course' column\n",
    "df['Course'].unique()\n"
   ]
  },
  {
   "cell_type": "code",
   "execution_count": 17,
   "metadata": {
    "colab": {
     "base_uri": "https://localhost:8080/"
    },
    "id": "3dlqC0y8kerq",
    "outputId": "e45449d4-8c41-4b65-d9a1-304c0ea40768"
   },
   "outputs": [
    {
     "name": "stderr",
     "output_type": "stream",
     "text": [
      "C:\\Users\\Dell\\AppData\\Local\\Temp\\ipykernel_8580\\2311595531.py:2: FutureWarning: Downcasting behavior in `replace` is deprecated and will be removed in a future version. To retain the old behavior, explicitly call `result.infer_objects(copy=False)`. To opt-in to the future behavior, set `pd.set_option('future.no_silent_downcasting', True)`\n",
      "  df['CGPA'] = df['CGPA'].replace({'0 - 1.99': 1,\n"
     ]
    }
   ],
   "source": [
    "# Correcting CGPA replace without inplace\n",
    "df['CGPA'] = df['CGPA'].replace({'0 - 1.99': 1,\n",
    "                                 '2.00 - 2.49': 2,\n",
    "                                 '2.50 - 2.99': 3,\n",
    "                                 '3.00 - 3.49': 4,\n",
    "                                 '3.50 - 4.00': 5})\n",
    "\n",
    "# Explicitly handling possible downcasting changes\n",
    "df['CGPA'] = df['CGPA'].astype(int)\n",
    "\n",
    "# Correcting the Year capitalization without chained assignment warning\n",
    "df['Year'] = df['Year'].str.title()"
   ]
  },
  {
   "cell_type": "code",
   "execution_count": 19,
   "metadata": {
    "colab": {
     "base_uri": "https://localhost:8080/"
    },
    "id": "_sR53GqZknZ4",
    "outputId": "a26cf8bb-5e0b-4b45-eadc-c706cac23996"
   },
   "outputs": [
    {
     "name": "stdout",
     "output_type": "stream",
     "text": [
      "<class 'pandas.core.frame.DataFrame'>\n",
      "Index: 100 entries, 0 to 100\n",
      "Data columns (total 10 columns):\n",
      " #   Column             Non-Null Count  Dtype  \n",
      "---  ------             --------------  -----  \n",
      " 0   Gender             100 non-null    object \n",
      " 1   Age                100 non-null    float64\n",
      " 2   Course             100 non-null    object \n",
      " 3   Year               100 non-null    object \n",
      " 4   CGPA               100 non-null    int32  \n",
      " 5   Married            100 non-null    object \n",
      " 6   Depression         100 non-null    object \n",
      " 7   Anxiety            100 non-null    object \n",
      " 8   Panic Attack       100 non-null    object \n",
      " 9   Seeking Treatment  100 non-null    object \n",
      "dtypes: float64(1), int32(1), object(8)\n",
      "memory usage: 8.2+ KB\n"
     ]
    }
   ],
   "source": [
    "df.info()"
   ]
  },
  {
   "cell_type": "markdown",
   "metadata": {
    "id": "GrueI6KnaCn8"
   },
   "source": [
    "\n",
    "**Data Analysis**\n",
    "\n",
    "This is where the brunt of the work was done. There was a lot of Googling, researching and figuring out how codes worked."
   ]
  },
  {
   "cell_type": "markdown",
   "metadata": {
    "id": "jaszD895aTCG"
   },
   "source": [
    "**Number of Students experiencing Mental Health Issues**\n",
    "\n",
    "The first and most basic type of analysis we can check for is how much are students experiencing mental health issues. I decided that if a student had either Depression, Anxiety or Panic Attacks, I would classify them as having Mental Health Issues.\n",
    "\n",
    "Let's check for how many students are experiencing either Depression, Anxiety or Panic Attacks"
   ]
  },
  {
   "cell_type": "code",
   "execution_count": 21,
   "metadata": {
    "colab": {
     "base_uri": "https://localhost:8080/",
     "height": 271
    },
    "id": "M-hWqZK0kqNX",
    "outputId": "2862d728-84d3-4e26-ad82-9b4d560f76c7"
   },
   "outputs": [
    {
     "data": {
      "text/html": [
       "<div>\n",
       "<style scoped>\n",
       "    .dataframe tbody tr th:only-of-type {\n",
       "        vertical-align: middle;\n",
       "    }\n",
       "\n",
       "    .dataframe tbody tr th {\n",
       "        vertical-align: top;\n",
       "    }\n",
       "\n",
       "    .dataframe thead th {\n",
       "        text-align: right;\n",
       "    }\n",
       "</style>\n",
       "<table border=\"1\" class=\"dataframe\">\n",
       "  <thead>\n",
       "    <tr style=\"text-align: right;\">\n",
       "      <th></th>\n",
       "      <th>Gender</th>\n",
       "      <th>Age</th>\n",
       "      <th>Course</th>\n",
       "      <th>Year</th>\n",
       "      <th>CGPA</th>\n",
       "      <th>Married</th>\n",
       "      <th>Depression</th>\n",
       "      <th>Anxiety</th>\n",
       "      <th>Panic Attack</th>\n",
       "      <th>Seeking Treatment</th>\n",
       "    </tr>\n",
       "    <tr>\n",
       "      <th>Mental Health Issues</th>\n",
       "      <th></th>\n",
       "      <th></th>\n",
       "      <th></th>\n",
       "      <th></th>\n",
       "      <th></th>\n",
       "      <th></th>\n",
       "      <th></th>\n",
       "      <th></th>\n",
       "      <th></th>\n",
       "      <th></th>\n",
       "    </tr>\n",
       "  </thead>\n",
       "  <tbody>\n",
       "    <tr>\n",
       "      <th>No</th>\n",
       "      <td>36</td>\n",
       "      <td>36</td>\n",
       "      <td>36</td>\n",
       "      <td>36</td>\n",
       "      <td>36</td>\n",
       "      <td>36</td>\n",
       "      <td>36</td>\n",
       "      <td>36</td>\n",
       "      <td>36</td>\n",
       "      <td>36</td>\n",
       "    </tr>\n",
       "    <tr>\n",
       "      <th>Yes</th>\n",
       "      <td>64</td>\n",
       "      <td>64</td>\n",
       "      <td>64</td>\n",
       "      <td>64</td>\n",
       "      <td>64</td>\n",
       "      <td>64</td>\n",
       "      <td>64</td>\n",
       "      <td>64</td>\n",
       "      <td>64</td>\n",
       "      <td>64</td>\n",
       "    </tr>\n",
       "  </tbody>\n",
       "</table>\n",
       "</div>"
      ],
      "text/plain": [
       "                      Gender  Age  Course  Year  CGPA  Married  Depression  \\\n",
       "Mental Health Issues                                                         \n",
       "No                        36   36      36    36    36       36          36   \n",
       "Yes                       64   64      64    64    64       64          64   \n",
       "\n",
       "                      Anxiety  Panic Attack  Seeking Treatment  \n",
       "Mental Health Issues                                            \n",
       "No                         36            36                 36  \n",
       "Yes                        64            64                 64  "
      ]
     },
     "execution_count": 21,
     "metadata": {},
     "output_type": "execute_result"
    }
   ],
   "source": [
    "# Created a new column title \"Mental Health Issues\" and marking a student with either Yes or No for MH Issues\n",
    "df.loc[(df[\"Depression\"]==\"Yes\") | (df[\"Anxiety\"]==\"Yes\") | (df[\"Panic Attack\"]==\"Yes\"),'Mental Health Issues']= 'Yes'\n",
    "df.loc[(df[\"Depression\"]==\"No\") & (df[\"Anxiety\"]==\"No\") & (df[\"Panic Attack\"]==\"No\"),'Mental Health Issues']= 'No'\n",
    "\n",
    "\n",
    "# Creating a dataframe with students who have mental health issues or not\n",
    "mental_health_yes = df[df[\"Mental Health Issues\"] == 'Yes']\n",
    "mental_health_no = df[df[\"Mental Health Issues\"] == 'No']\n",
    "\n",
    "# Showing the count of Students grouped via Mental Health Issues\n",
    "df.groupby(['Mental Health Issues']).count()"
   ]
  },
  {
   "cell_type": "markdown",
   "metadata": {
    "id": "f97nKsbNajU9"
   },
   "source": [
    "**Data Visualization**"
   ]
  },
  {
   "cell_type": "markdown",
   "metadata": {
    "id": "CYYeke9UayW4"
   },
   "source": [
    "\n",
    "**1. Plotting the Pie Chart**\n",
    "\n",
    "This is just a simple Pie Chart to see the of students who are experiencing Mental Health Issues. As we can see there are more students experiencing Mental Health Issues than those that do not.\n"
   ]
  },
  {
   "cell_type": "code",
   "execution_count": 23,
   "metadata": {
    "colab": {
     "base_uri": "https://localhost:8080/",
     "height": 428
    },
    "id": "fZDkVWmVkypY",
    "outputId": "ebf331a1-3945-4e21-adc6-ba68be01d538"
   },
   "outputs": [
    {
     "data": {
      "image/png": "[encoded data removed]",
      "text/plain": [
       "<Figure size 640x480 with 1 Axes>"
      ]
     },
     "metadata": {},
     "output_type": "display_data"
    }
   ],
   "source": [
    "# Setting default seaborn theme\n",
    "sns.set()\n",
    "\n",
    "# Plotting the number of students who have MH Issues vs students with no MH Issues\n",
    "plt.pie(df['Mental Health Issues'].value_counts(), labels = ['Yes', 'No'], autopct = '%.f')\n",
    "\n",
    "plt.title('Number of Students with Mental Health Issues')\n",
    "\n",
    "plt.show()"
   ]
  },
  {
   "cell_type": "markdown",
   "metadata": {
    "id": "1KMHG4BGa7xS"
   },
   "source": [
    "\n",
    "**2. Comparing students the CGPA of students who have MH Issues vs students with No MH Issues**"
   ]
  },
  {
   "cell_type": "code",
   "execution_count": 25,
   "metadata": {
    "colab": {
     "base_uri": "https://localhost:8080/",
     "height": 498
    },
    "id": "PqKtZsU4k8Vu",
    "outputId": "87a31e1f-1fa5-4a3d-f7c4-4f0fbad78632"
   },
   "outputs": [
    {
     "data": {
      "text/plain": [
       "Text(0.5, 1.0, 'CGPA of Students with Mental Health Issues vs No Mental Health Issues')"
      ]
     },
     "execution_count": 25,
     "metadata": {},
     "output_type": "execute_result"
    },
    {
     "data": {
      "image/png": "[encoded data removed]",
      "text/plain": [
       "<Figure size 640x480 with 1 Axes>"
      ]
     },
     "metadata": {},
     "output_type": "display_data"
    }
   ],
   "source": [
    "import numpy as np # linear algebra\n",
    "# Creating a series of the students CGPA for both dataframes of students with MH Issues and no MH Issues\n",
    "mental_health_no_cgpa = mental_health_no.groupby(\"CGPA\")[\"Mental Health Issues\"].count()\n",
    "mental_health_yes_cgpa = mental_health_yes.groupby(\"CGPA\")[\"Mental Health Issues\"].count()\n",
    "\n",
    "#Plotting a comparison bar chart\n",
    "n=5\n",
    "r = np.arange(n)\n",
    "width = 0.25\n",
    "\n",
    "\n",
    "plt.bar(r, mental_health_no_cgpa,\n",
    "        width = width, edgecolor = 'black',\n",
    "        label='No')\n",
    "plt.bar(r + width, mental_health_yes_cgpa,\n",
    "        width = width, edgecolor = 'black',\n",
    "        label='Yes')\n",
    "\n",
    "plt.xlabel(\"CGPA\")\n",
    "plt.ylabel('Count')\n",
    "plt.title(\"CGPA of Students with Mental Health Issues vs No Mental Health Issues\")\n"
   ]
  },
  {
   "cell_type": "markdown",
   "metadata": {
    "id": "BZgB9Arhbw8q"
   },
   "source": [
    "As we can see above, most of the students were actually doing well in their studies as the majority had reported a CGPA of 3.0 and above. What's interesting is that students who have reported having MH issues also are performing proportionately the same as with their peers who do not have MH Issues.\n"
   ]
  },
  {
   "cell_type": "markdown",
   "metadata": {
    "id": "tg8_uwI3b0nA"
   },
   "source": [
    "\n",
    "\n",
    "**Average Performance of Students**\n",
    "\n",
    "To further check if students with MH Issues are doing the same as with their peers, I looked into getting the average of the total students, students who reported having MH Issues and as well as students who are seeking treatment. This is also where changing the CGPA scores into numbers with 1 at the lowest and 5 as the highest is used.\n"
   ]
  },
  {
   "cell_type": "code",
   "execution_count": 27,
   "metadata": {
    "colab": {
     "base_uri": "https://localhost:8080/"
    },
    "id": "i1jFfCsOleE-",
    "outputId": "a3181557-3af7-4080-bf9c-d66dea0de5c0"
   },
   "outputs": [
    {
     "name": "stdout",
     "output_type": "stream",
     "text": [
      "The average of each total group is:\n",
      "            Total Students: 4.31\n",
      "            Students with MH Issues: 4.359375\n",
      "            Students Seeking Treatment: 4.333333333333333\n"
     ]
    }
   ],
   "source": [
    "# Creating a dataframe for students who are Seeking Treatment\n",
    "student_st = df[df[\"Seeking Treatment\"] == 'Yes']\n",
    "\n",
    "# Getting the avrage of each group.\n",
    "total_ave = df[\"CGPA\"].mean()\n",
    "student_mh_ave = mental_health_yes['CGPA'].mean()\n",
    "student_st_ave = student_st['CGPA'].mean()\n",
    "\n",
    "print(f'''The average of each total group is:\n",
    "            Total Students: {total_ave}\n",
    "            Students with MH Issues: {student_mh_ave}\n",
    "            Students Seeking Treatment: {student_st_ave}''')"
   ]
  },
  {
   "cell_type": "markdown",
   "metadata": {
    "id": "YdlHI5VOcG1N"
   },
   "source": [
    "\n",
    "**3. Plotting the bar chart**\n",
    "\n",
    "As we can see the average is of all three groups are very similar at 4.3 across the board and to further visualize this, we will do a bar chart. This further reinforces that students with MH Issues are doing just as well as their peers.\n"
   ]
  },
  {
   "cell_type": "code",
   "execution_count": 29,
   "metadata": {
    "colab": {
     "base_uri": "https://localhost:8080/",
     "height": 457
    },
    "id": "Rf0Sgrlelj04",
    "outputId": "4bcc2177-d20c-4aca-d27b-aa3470541afc"
   },
   "outputs": [
    {
     "data": {
      "image/png": "[encoded data removed]",
      "text/plain": [
       "<Figure size 640x480 with 1 Axes>"
      ]
     },
     "metadata": {},
     "output_type": "display_data"
    }
   ],
   "source": [
    "# Simple bar chart of the averages\n",
    "x_axis = ['Total', 'MH Students', 'ST Students']\n",
    "y_axis = [total_ave, student_mh_ave, student_st_ave]\n",
    "plt.bar(x_axis, y_axis)\n",
    "plt.ylim([3, 5])\n",
    "\n",
    "plt.title('Average CGPA of Students')\n",
    "\n",
    "plt.show()"
   ]
  },
  {
   "cell_type": "markdown",
   "metadata": {
    "id": "3j7HWsuBcXft"
   },
   "source": [
    "\n",
    "**Relation of Courses and Mental Health Issues**\n",
    "\n",
    "What I tried to find out next was which courses were more likely to have students with MH Issues or not."
   ]
  },
  {
   "cell_type": "code",
   "execution_count": 31,
   "metadata": {
    "colab": {
     "base_uri": "https://localhost:8080/",
     "height": 206
    },
    "id": "5EoL_TS7l4RG",
    "outputId": "861ef9d8-3f8b-48a2-eade-935752b15eea"
   },
   "outputs": [
    {
     "data": {
      "text/html": [
       "<div>\n",
       "<style scoped>\n",
       "    .dataframe tbody tr th:only-of-type {\n",
       "        vertical-align: middle;\n",
       "    }\n",
       "\n",
       "    .dataframe tbody tr th {\n",
       "        vertical-align: top;\n",
       "    }\n",
       "\n",
       "    .dataframe thead th {\n",
       "        text-align: right;\n",
       "    }\n",
       "</style>\n",
       "<table border=\"1\" class=\"dataframe\">\n",
       "  <thead>\n",
       "    <tr style=\"text-align: right;\">\n",
       "      <th></th>\n",
       "      <th>Course</th>\n",
       "      <th>Has Mental Health Issues</th>\n",
       "      <th>No Mental Health Issues</th>\n",
       "      <th>Total</th>\n",
       "    </tr>\n",
       "  </thead>\n",
       "  <tbody>\n",
       "    <tr>\n",
       "      <th>0</th>\n",
       "      <td>Engineering</td>\n",
       "      <td>12.0</td>\n",
       "      <td>8.0</td>\n",
       "      <td>20.0</td>\n",
       "    </tr>\n",
       "    <tr>\n",
       "      <th>1</th>\n",
       "      <td>Computer Science</td>\n",
       "      <td>11.0</td>\n",
       "      <td>7.0</td>\n",
       "      <td>18.0</td>\n",
       "    </tr>\n",
       "    <tr>\n",
       "      <th>2</th>\n",
       "      <td>Education</td>\n",
       "      <td>11.0</td>\n",
       "      <td>5.0</td>\n",
       "      <td>16.0</td>\n",
       "    </tr>\n",
       "    <tr>\n",
       "      <th>3</th>\n",
       "      <td>IT</td>\n",
       "      <td>10.0</td>\n",
       "      <td>0.0</td>\n",
       "      <td>10.0</td>\n",
       "    </tr>\n",
       "    <tr>\n",
       "      <th>4</th>\n",
       "      <td>IRKHS</td>\n",
       "      <td>3.0</td>\n",
       "      <td>3.0</td>\n",
       "      <td>6.0</td>\n",
       "    </tr>\n",
       "  </tbody>\n",
       "</table>\n",
       "</div>"
      ],
      "text/plain": [
       "             Course  Has Mental Health Issues  No Mental Health Issues  Total\n",
       "0       Engineering                      12.0                      8.0   20.0\n",
       "1  Computer Science                      11.0                      7.0   18.0\n",
       "2         Education                      11.0                      5.0   16.0\n",
       "3                IT                      10.0                      0.0   10.0\n",
       "4             IRKHS                       3.0                      3.0    6.0"
      ]
     },
     "execution_count": 31,
     "metadata": {},
     "output_type": "execute_result"
    }
   ],
   "source": [
    "# Creating a series where the count of student's MH Issues is grouped by course\n",
    "mental_health_no_course = mental_health_no.groupby(\"Course\")[\"Mental Health Issues\"].count()\n",
    "mental_health_yes_course = mental_health_yes.groupby(\"Course\")[\"Mental Health Issues\"].count()\n",
    "\n",
    "# Sorting from highest to lowest\n",
    "mental_health_no_course = mental_health_no_course.sort_values(ascending = False)\n",
    "mental_health_yes_course = mental_health_yes_course.sort_values(ascending = False)\n",
    "\n",
    "# Creating a new dataframe for this plot\n",
    "new_df = pd.concat([mental_health_yes_course, mental_health_no_course], axis=1)\n",
    "\n",
    "# Renaming the column names\n",
    "new_df.columns.values[0] = \"Has Mental Health Issues\"\n",
    "new_df.columns.values[1] = \"No Mental Health Issues\"\n",
    "\n",
    "# Changing the NULL values into 0 and then creating a new column named Total.\n",
    "new_df.fillna(0, inplace = True)\n",
    "new_df['Total'] = new_df['Has Mental Health Issues'] + new_df['No Mental Health Issues']\n",
    "\n",
    "# Sorting\n",
    "new_df = new_df.sort_values(by=['Total','Has Mental Health Issues', 'No Mental Health Issues'], ascending=False)\n",
    "\n",
    "new_df = new_df.reset_index(level=0)\n",
    "\n",
    "new_df.head()"
   ]
  },
  {
   "cell_type": "markdown",
   "metadata": {
    "id": "hjNyLHDOcjU3"
   },
   "source": [
    " We can see, the top 5 courses with students reporting having Mental Health Issues is Engineering, Computer Science, Education, IT and IRKHS. It's not surprising that Engineering, Computer Science and IT would have students reporting experiencing MH issues as these courses can be very demanding. What's surprising is Education having a high report of MH Issues.\n",
    "\n",
    "Another interesting thing to take note of is that all IT students have reported to have at least 1 Mental Health Issue.\n",
    "\n",
    "To further illustrate the distribution of courses and MH Issues, we're going to plot a bar chart which you can see below"
   ]
  },
  {
   "cell_type": "markdown",
   "metadata": {
    "id": "2OuJFNnIdkkq"
   },
   "source": [
    "**3. Bar Chart**\n",
    "\n",
    "Coursewise Count of Students with MH Issues"
   ]
  },
  {
   "cell_type": "code",
   "execution_count": 33,
   "metadata": {
    "colab": {
     "base_uri": "https://localhost:8080/",
     "height": 475
    },
    "id": "itW2PRK_l9QQ",
    "outputId": "5e7e1b8d-22a7-400e-dd25-b3f8de800c1b"
   },
   "outputs": [
    {
     "data": {
      "text/plain": [
       "Text(0.5, 1.0, 'Count of Students with MH Issues')"
      ]
     },
     "execution_count": 33,
     "metadata": {},
     "output_type": "execute_result"
    },
    {
     "data": {
      "image/png": "[encoded data removed]",
      "text/plain": [
       "<Figure size 640x480 with 1 Axes>"
      ]
     },
     "metadata": {},
     "output_type": "display_data"
    }
   ],
   "source": [
    "\n",
    "\n",
    "# Sorting Data for this plot\n",
    "new_df = new_df.sort_values(by=['Total','Has Mental Health Issues', 'No Mental Health Issues'], ascending=True)\n",
    "\n",
    "# Plotting via stacked horizontal bars\n",
    "ax = new_df.plot(x=\"Course\", y=\"Has Mental Health Issues\", kind=\"barh\", color = 'orange')\n",
    "\n",
    "new_df.plot(x=\"Course\", y=\"No Mental Health Issues\", kind=\"barh\", ax=ax, color = 'steelblue')\n",
    "plt.title('Count of Students with MH Issues')\n",
    "\n"
   ]
  },
  {
   "cell_type": "markdown",
   "metadata": {
    "id": "5Xv9SlCPfach"
   },
   "source": [
    "**Closing Notes**\n",
    "\n",
    "This was my first project that I worked on and it's been very insightful for me to get to know on how to work with data. The data itself was very basic but I will take everything I've learned to heart. I'll try to optimize some of these code in near future. I'm proud to have created this even though some of the code I've taken help from StackOverFlow and articles online."
   ]
  }
 ],
 "metadata": {
  "colab": {
   "provenance": []
  },
  "kernelspec": {
   "display_name": "Python 3 (ipykernel)",
   "language": "python",
   "name": "python3"
  },
  "language_info": {
   "codemirror_mode": {
    "name": "ipython",
    "version": 3
   },
   "file_extension": ".py",
   "mimetype": "text/x-python",
   "name": "python",
   "nbconvert_exporter": "python",
   "pygments_lexer": "ipython3",
   "version": "3.12.4"
  }
 },
 "nbformat": 4,
 "nbformat_minor": 4
}
